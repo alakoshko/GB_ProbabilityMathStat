{
 "cells": [
  {
   "cell_type": "code",
   "execution_count": 48,
   "metadata": {},
   "outputs": [],
   "source": [
    "import numpy as np\n",
    "import math"
   ]
  },
  {
   "cell_type": "markdown",
   "metadata": {},
   "source": [
    "Сочетания\n",
    "$$C_n^k = \\frac{n!}{k!(n - k)!}$$"
   ]
  },
  {
   "cell_type": "code",
   "execution_count": 24,
   "metadata": {},
   "outputs": [],
   "source": [
    "# Сочетания\n",
    "def combinations(n, k):\n",
    "    return int(factorial(n) / (factorial(k) * factorial(n - k)))"
   ]
  },
  {
   "cell_type": "markdown",
   "metadata": {},
   "source": [
    "Размещения\n",
    "$$A_n^k = \\frac{n!}{(n - k)!}$$"
   ]
  },
  {
   "cell_type": "code",
   "execution_count": 25,
   "metadata": {},
   "outputs": [],
   "source": [
    "# Размещения\n",
    "def arrangements(n, k):\n",
    "    return int(factorial(n) / factorial(n - k))"
   ]
  },
  {
   "cell_type": "markdown",
   "metadata": {},
   "source": [
    "Перестановки\n",
    "$$P_n = n!$$"
   ]
  },
  {
   "cell_type": "code",
   "execution_count": 26,
   "metadata": {},
   "outputs": [],
   "source": [
    "# Перестановки\n",
    "def permutations(n):\n",
    "    return int(factorial(n))"
   ]
  },
  {
   "cell_type": "code",
   "execution_count": 18,
   "metadata": {},
   "outputs": [],
   "source": [
    "def pr(P):\n",
    "    print(\"Вероятность: {:.6%}\".format(P) )"
   ]
  },
  {
   "cell_type": "markdown",
   "metadata": {},
   "source": [
    "#### Задача 1\n",
    "Вероятность того, что стрелок попадет в мишень, выстрелив один раз, равна 0.8. Стрелок выстрелил 100 раз. Найдите вероятность того, что стрелок попадет в цель ровно 85 раз."
   ]
  },
  {
   "cell_type": "code",
   "execution_count": 19,
   "metadata": {},
   "outputs": [
    {
     "name": "stdout",
     "output_type": "stream",
     "text": [
      "Вероятность: 68.000000%\n"
     ]
    }
   ],
   "source": [
    "P = 85 / 100 *.8\n",
    "pr(P)"
   ]
  },
  {
   "cell_type": "markdown",
   "metadata": {},
   "source": [
    "#### Задача 2\n",
    "Вероятность того, что лампочка перегорит в течение первого дня эксплуатации, равна 0.0004. В жилом комплексе после ремонта в один день включили 5000 новых лампочек. Какова вероятность, что ни одна из них не перегорит в первый день? Какова вероятность, что перегорят ровно две?"
   ]
  },
  {
   "cell_type": "markdown",
   "metadata": {},
   "source": [
    "##### 1)\n",
    "Какова вероятность, что ни одна из них не перегорит в первый день?"
   ]
  },
  {
   "cell_type": "code",
   "execution_count": 56,
   "metadata": {},
   "outputs": [
    {
     "name": "stdout",
     "output_type": "stream",
     "text": [
      "Вероятность: 13.533528%\n"
     ]
    }
   ],
   "source": [
    "l = 5000 * .0004\n",
    "P0 = pow(2,0)/factorial(0) * math.exp(-l)\n",
    "pr(P0)"
   ]
  },
  {
   "cell_type": "markdown",
   "metadata": {},
   "source": [
    "##### 2)\n",
    "Какова вероятность, что перегорят ровно две?"
   ]
  },
  {
   "cell_type": "code",
   "execution_count": 57,
   "metadata": {},
   "outputs": [
    {
     "name": "stdout",
     "output_type": "stream",
     "text": [
      "Вероятность: 27.067057%\n"
     ]
    }
   ],
   "source": [
    "P0 = pow(2,2)/factorial(2) * math.exp(-l)\n",
    "pr(P0)"
   ]
  },
  {
   "cell_type": "markdown",
   "metadata": {},
   "source": [
    "#### Задача 3\n",
    "Монету подбросили 144 раза. Какова вероятность, что орел выпадет ровно 70 раз?"
   ]
  },
  {
   "cell_type": "markdown",
   "metadata": {},
   "source": [
    "$$C_n^k = \\frac{n!}{k!(n - k)!}$$"
   ]
  },
  {
   "cell_type": "markdown",
   "metadata": {},
   "source": [
    "$$P_n(X = K) = C_n^k  p^k  q^{n-k}$$"
   ]
  },
  {
   "cell_type": "code",
   "execution_count": 42,
   "metadata": {},
   "outputs": [
    {
     "name": "stdout",
     "output_type": "stream",
     "text": [
      "Вероятность: 6.281178%\n"
     ]
    }
   ],
   "source": [
    "k = 70\n",
    "n = 144\n",
    "p = 1/2\n",
    "P = combinations(n, k) * pow(p, k) * pow(p, (n - k))\n",
    "pr(P)"
   ]
  },
  {
   "cell_type": "markdown",
   "metadata": {},
   "source": [
    "#### Задач 4\n",
    "В первом ящике находится 10 мячей, из которых 7 - белые. Во втором ящике - 11 мячей, из которых 9 белых. Из каждого ящика вытаскивают случайным образом по два мяча. Какова вероятность того, что все мячи белые? Какова вероятность того, что ровно два мяча белые? Какова вероятность того, что хотя бы один мяч белый?"
   ]
  },
  {
   "cell_type": "markdown",
   "metadata": {},
   "source": [
    "Какова вероятность того, что все мячи белые?"
   ]
  },
  {
   "cell_type": "code",
   "execution_count": 58,
   "metadata": {},
   "outputs": [
    {
     "name": "stdout",
     "output_type": "stream",
     "text": [
      "Вероятность: 30.545455%\n"
     ]
    }
   ],
   "source": [
    "P = combinations(7, 2) / combinations(10, 2) * combinations(9, 2) / combinations(11, 2)\n",
    "pr(P)"
   ]
  },
  {
   "cell_type": "code",
   "execution_count": 69,
   "metadata": {},
   "outputs": [
    {
     "name": "stdout",
     "output_type": "stream",
     "text": [
      "Вероятность: 30.545455%\n"
     ]
    }
   ],
   "source": [
    "P = 7/10 * 6/9 * 9/11 * 8/10\n",
    "pr(P)"
   ]
  },
  {
   "cell_type": "markdown",
   "metadata": {},
   "source": [
    " Какова вероятность того, что ровно два мяча белые?"
   ]
  },
  {
   "cell_type": "code",
   "execution_count": 68,
   "metadata": {},
   "outputs": [
    {
     "name": "stdout",
     "output_type": "stream",
     "text": [
      "Вероятность: 0.848485%\n",
      "Вероятность: 4.363636%\n",
      "Вероятность: 15.272727%\n",
      "Вероятность: 20.484848%\n"
     ]
    }
   ],
   "source": [
    "#2б и 2ч\n",
    "P1 = combinations(7, 2) / combinations(10, 2) * combinations(2, 2) / combinations(11, 2)\n",
    "pr(P1)\n",
    "#2ч и 2б\n",
    "P2 = combinations(3, 2) / combinations(10, 2) * combinations(9, 2) / combinations(11, 2)\n",
    "pr(P2)\n",
    "#1б+1ч и 1б+1ч\n",
    "P3 = (combinations(3, 1) * combinations(7, 1) / combinations(10, 2)) \\\n",
    "    * (combinations(9, 1) * combinations(2, 1) / combinations(11, 2))\n",
    "pr(P3)\n",
    "pr(P1+P2+P3)"
   ]
  },
  {
   "cell_type": "code",
   "execution_count": 70,
   "metadata": {},
   "outputs": [
    {
     "name": "stdout",
     "output_type": "stream",
     "text": [
      "Вероятность: 0.848485%\n",
      "Вероятность: 4.363636%\n",
      "Вероятность: 15.272727%\n",
      "Вероятность: 20.484848%\n"
     ]
    }
   ],
   "source": [
    "#2б и 2ч\n",
    "P1 = 7/10 * 6/9 * 2/11 * 1/10\n",
    "pr(P1)\n",
    "#2ч и 2б\n",
    "P2 = 3/10 * 2/9 * 9/11 * 8/10\n",
    "pr(P2)\n",
    "#1б+1ч и 1б+1ч\n",
    "P3 = (7/10 * 3/9 + 3/10 * 7/9) * (9/11 * 2/10 + 2/11 * 9/10)\n",
    "pr(P3)\n",
    "pr(P1+P2+P3)"
   ]
  },
  {
   "cell_type": "markdown",
   "metadata": {},
   "source": [
    "Какова вероятность того, что хотя бы один мяч белый?"
   ]
  },
  {
   "cell_type": "code",
   "execution_count": 59,
   "metadata": {},
   "outputs": [
    {
     "name": "stdout",
     "output_type": "stream",
     "text": [
      "Вероятность: 99.878788%\n"
     ]
    }
   ],
   "source": [
    "P = 1 - combinations(3, 2) / combinations(10, 2) * combinations(2, 2) / combinations(11, 2)\n",
    "pr(P)"
   ]
  },
  {
   "cell_type": "code",
   "execution_count": 72,
   "metadata": {},
   "outputs": [
    {
     "name": "stdout",
     "output_type": "stream",
     "text": [
      "Вероятность: 99.889807%\n"
     ]
    }
   ],
   "source": [
    "P = 1 - 3/10 * 2/9 * 2/11 * 1/11\n",
    "pr(P)"
   ]
  },
  {
   "cell_type": "code",
   "execution_count": null,
   "metadata": {},
   "outputs": [],
   "source": []
  }
 ],
 "metadata": {
  "kernelspec": {
   "display_name": "Python 3",
   "language": "python",
   "name": "python3"
  },
  "language_info": {
   "codemirror_mode": {
    "name": "ipython",
    "version": 3
   },
   "file_extension": ".py",
   "mimetype": "text/x-python",
   "name": "python",
   "nbconvert_exporter": "python",
   "pygments_lexer": "ipython3",
   "version": "3.7.6"
  }
 },
 "nbformat": 4,
 "nbformat_minor": 4
}
